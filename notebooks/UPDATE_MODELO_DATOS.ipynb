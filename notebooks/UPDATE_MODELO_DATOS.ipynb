{
 "cells": [
  {
   "cell_type": "code",
   "execution_count": 1,
   "id": "e189ee82-0287-4926-b266-5c58cee71709",
   "metadata": {},
   "outputs": [
    {
     "name": "stdout",
     "output_type": "stream",
     "text": [
      "Ejecutando sp_upsert_dimensionales...\n",
      "sp_upsert_dimensionales ejecutado con éxito.\n",
      "Proceso de carga de dimensiones finalizado.\n"
     ]
    }
   ],
   "source": [
    "#DIMENSIONALES\n",
    "\n",
    "import mysql.connector\n",
    "\n",
    "# Configuración de conexión a MySQL\n",
    "DB_CONFIG = {\n",
    "    \"host\": \"roundhouse.proxy.rlwy.net\",\n",
    "    \"port\": 38517,\n",
    "    \"user\": \"root\",\n",
    "    \"password\": \"wZGotyxIDqpAtQjPxNuxxezSbbroztiw\",\n",
    "    \"database\": \"railway\"\n",
    "}\n",
    "\n",
    "# Función para ejecutar un procedimiento almacenado\n",
    "def ejecutar_sp(sp_name):\n",
    "    \"\"\"\n",
    "    Ejecuta un procedimiento almacenado en MySQL.\n",
    "    :param sp_name: Nombre del Stored Procedure a ejecutar.\n",
    "    \"\"\"\n",
    "    conn = None\n",
    "    try:\n",
    "        # Conectar a la base de datos\n",
    "        conn = mysql.connector.connect(**DB_CONFIG)\n",
    "        cursor = conn.cursor()\n",
    "\n",
    "        print(f\"Ejecutando {sp_name}...\")\n",
    "        cursor.callproc(sp_name)  # Ejecutar el procedimiento almacenado\n",
    "        conn.commit()  # Confirmar cambios en la base de datos\n",
    "\n",
    "        print(f\"{sp_name} ejecutado con éxito.\")\n",
    "\n",
    "    except mysql.connector.Error as err:\n",
    "        print(f\"Error al ejecutar {sp_name}: {err}\")\n",
    "\n",
    "    finally:\n",
    "        if cursor:\n",
    "            cursor.close()\n",
    "        if conn:\n",
    "            conn.close()\n",
    "\n",
    "# Ejecutar el SP de dimensiones\n",
    "ejecutar_sp('sp_upsert_dimensionales')\n",
    "\n",
    "print(\"Proceso de carga de dimensiones finalizado.\")\n",
    "\n"
   ]
  },
  {
   "cell_type": "code",
   "execution_count": 2,
   "id": "e62ae9fb-b8ed-4234-bf04-db88795b371f",
   "metadata": {},
   "outputs": [
    {
     "name": "stdout",
     "output_type": "stream",
     "text": [
      "Ejecutando sp_upsert_hechos...\n",
      "sp_upsert_hechos ejecutado con éxito.\n",
      "Proceso de carga de hechos finalizado.\n"
     ]
    }
   ],
   "source": [
    "# TABLA DE HECHOS\n",
    "\n",
    "import mysql.connector\n",
    "\n",
    "# Configuración de conexión a MySQL\n",
    "DB_CONFIG = {\n",
    "    \"host\": \"roundhouse.proxy.rlwy.net\",\n",
    "    \"port\": 38517,\n",
    "    \"user\": \"root\",\n",
    "    \"password\": \"wZGotyxIDqpAtQjPxNuxxezSbbroztiw\",\n",
    "    \"database\": \"railway\"\n",
    "}\n",
    "\n",
    "# Función para ejecutar un procedimiento almacenado\n",
    "def ejecutar_sp(sp_name):\n",
    "    \"\"\"\n",
    "    Ejecuta un procedimiento almacenado en MySQL.\n",
    "    :param sp_name: Nombre del Stored Procedure a ejecutar.\n",
    "    \"\"\"\n",
    "    conn = None\n",
    "    try:\n",
    "        # Conectar a la base de datos\n",
    "        conn = mysql.connector.connect(**DB_CONFIG)\n",
    "        cursor = conn.cursor()\n",
    "\n",
    "        print(f\"Ejecutando {sp_name}...\")\n",
    "        cursor.callproc(sp_name)  # Ejecutar el procedimiento almacenado\n",
    "        conn.commit()  # Confirmar cambios en la base de datos\n",
    "\n",
    "        print(f\"{sp_name} ejecutado con éxito.\")\n",
    "\n",
    "    except mysql.connector.Error as err:\n",
    "        print(f\"Error al ejecutar {sp_name}: {err}\")\n",
    "\n",
    "    finally:\n",
    "        if cursor:\n",
    "            cursor.close()\n",
    "        if conn:\n",
    "            conn.close()\n",
    "\n",
    "# Ejecutar el SP de hechos\n",
    "ejecutar_sp('sp_upsert_hechos')\n",
    "\n",
    "print(\"Proceso de carga de hechos finalizado.\")\n"
   ]
  },
  {
   "cell_type": "code",
   "execution_count": null,
   "id": "6fd16c8e-d08a-4d83-9d6f-39da83b65254",
   "metadata": {},
   "outputs": [],
   "source": []
  }
 ],
 "metadata": {
  "kernelspec": {
   "display_name": "Python 3 (ipykernel)",
   "language": "python",
   "name": "python3"
  },
  "language_info": {
   "codemirror_mode": {
    "name": "ipython",
    "version": 3
   },
   "file_extension": ".py",
   "mimetype": "text/x-python",
   "name": "python",
   "nbconvert_exporter": "python",
   "pygments_lexer": "ipython3",
   "version": "3.12.5"
  }
 },
 "nbformat": 4,
 "nbformat_minor": 5
}
